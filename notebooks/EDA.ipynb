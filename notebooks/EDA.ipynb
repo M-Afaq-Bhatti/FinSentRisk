{
 "cells": [
  {
   "cell_type": "code",
   "execution_count": null,
   "id": "161da719",
   "metadata": {
    "vscode": {
     "languageId": "plaintext"
    }
   },
   "outputs": [],
   "source": [
    "newapi_key = ''\n",
    "fredapi_key = ''\n",
    "\n",
    "# --------------------\n",
    "# 1. Fetch Macro Data from FRED\n",
    "# --------------------\n",
    "def fetch_macro_data():\n",
    "    series = {\n",
    "        \"GDP_Growth\": \"A191RL1Q225SBEA\",\n",
    "        \"CPI\": \"CPIAUCSL\",\n",
    "        \"Fed_Funds_Rate\": \"FEDFUNDS\",\n",
    "        \"Crude_Oil_Price\": \"DCOILWTICO\",\n",
    "        \"Copper_Price\": \"PCOPPUSDM\"\n",
    "    }\n",
    "    df_list = []\n",
    "    for name, code in series.items():\n",
    "        data = fred.get_series(code)\n",
    "        data = data.to_frame(name=name)\n",
    "        df_list.append(data)\n",
    "    macro_df = pd.concat(df_list, axis=1)\n",
    "    macro_df.to_csv(\"data_pipeline/macro_data.csv\")\n",
    "    print(\"✅ Macro data saved.\")\n",
    "    return macro_df\n",
    "\n",
    "\n",
    "# print(\"📥 Fetching macro data...\")\n",
    "    # fetch_macro_data()"
   ]
  }
 ],
 "metadata": {
  "language_info": {
   "name": "python"
  }
 },
 "nbformat": 4,
 "nbformat_minor": 5
}
